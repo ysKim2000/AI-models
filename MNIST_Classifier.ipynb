{
  "nbformat": 4,
  "nbformat_minor": 0,
  "metadata": {
    "colab": {
      "provenance": []
    },
    "kernelspec": {
      "name": "python3",
      "display_name": "Python 3"
    },
    "language_info": {
      "name": "python"
    }
  },
  "cells": [
    {
      "cell_type": "code",
      "execution_count": 10,
      "metadata": {
        "id": "C8TAvyoQ2pX1"
      },
      "outputs": [],
      "source": [
        "import torch\n",
        "import torch.nn as nn\n",
        "import torchvision.datasets as dset\n",
        "import torchvision.transforms as transforms\n",
        "from torch.utils.data import DataLoader\n",
        "\n",
        "training_epochs = 15 # training 반복 횟수\n",
        "batch_size = 100\n",
        "\n",
        "# 이미지 변환 함수 정의\n",
        "transform = transforms.Compose([\n",
        "    transforms.ToTensor(),\n",
        "    transforms.Normalize((0.5,), (0.5,))\n",
        "])\n",
        "\n",
        "mnist_train = dset.MNIST(root='./data', train=True, transform=transform, download=True)\n",
        "mnist_test = dset.MNIST(root='./data', train=False, transform=transform, download=True)\n",
        "\n",
        "train_loader = torch.utils.data.DataLoader(mnist_train, batch_size = 64, shuffle=True, drop_last=True)\n",
        "test_loader = torch.utils.data.DataLoader(mnist_test, batch_size = 64, shuffle=True, drop_last=True)\n"
      ]
    },
    {
      "cell_type": "code",
      "source": [
        "# MNIST 입력의 크기는 28 x 28 = 784\n",
        "device = torch.device('cuda' if torch.cuda.is_available() else 'cpu')\n",
        "linear = torch.nn.Linear(784, 10, bias=True).to(device)\n",
        "torch.nn.init.uniform_(linear.weight) # 균일 분포(a,b)로 텐서를 초기화"
      ],
      "metadata": {
        "id": "AguiTQXo-2_M",
        "outputId": "aa8fd6b8-098a-4b0a-dbd3-e6c3345d1e67",
        "colab": {
          "base_uri": "https://localhost:8080/"
        }
      },
      "execution_count": 11,
      "outputs": [
        {
          "output_type": "execute_result",
          "data": {
            "text/plain": [
              "Parameter containing:\n",
              "tensor([[0.3848, 0.5516, 0.5156,  ..., 0.0846, 0.1935, 0.0282],\n",
              "        [0.9449, 0.1030, 0.7370,  ..., 0.3680, 0.2268, 0.4409],\n",
              "        [0.3842, 0.0993, 0.3008,  ..., 0.9947, 0.9022, 0.9382],\n",
              "        ...,\n",
              "        [0.0257, 0.8938, 0.9515,  ..., 0.5931, 0.2517, 0.3112],\n",
              "        [0.8410, 0.6488, 0.0865,  ..., 0.0537, 0.3959, 0.1059],\n",
              "        [0.0289, 0.5815, 0.5073,  ..., 0.1356, 0.3255, 0.7254]],\n",
              "       requires_grad=True)"
            ]
          },
          "metadata": {},
          "execution_count": 11
        }
      ]
    },
    {
      "cell_type": "code",
      "source": [
        "# Loss fn - Cross Entropy Loss(비용 함수, 내부적으로 소프트맥스 함수를 포함)\n",
        "criterion = torch.nn.CrossEntropyLoss().to(device)\n",
        "# optimizer - SGD(옵티마이저)\n",
        "optimizer = torch.optim.SGD(linear.parameters(), lr = 0.1)"
      ],
      "metadata": {
        "id": "J4mVeouyFbsc"
      },
      "execution_count": 12,
      "outputs": []
    },
    {
      "cell_type": "code",
      "source": [
        "for epoch in range(training_epochs):\n",
        "  for i, (imgs, labels) in enumerate(train_loader):\n",
        "    imgs, labels = imgs.to(device), labels.to(device)\n",
        "    imgs = imgs.view(-1, 28 * 28)\n",
        "\n",
        "    outputs = linear(imgs)\n",
        "    loss = criterion(outputs, labels)\n",
        "\n",
        "    optimizer.zero_grad()\n",
        "    loss.backward()\n",
        "    optimizer.step()\n",
        "\n",
        "    _, argmax = torch.max(outputs, 1)\n",
        "    accuracy = (labels == argmax).float().mean()\n",
        "\n",
        "    if(i+1) % 100 == 0:\n",
        "      print(f'Epoch [{epoch+1}/{training_epochs}], Step [{i+1}/{len(train_loader)}], Loss: {loss.item():.4f}, Accuracy: {accuracy.item() * 100:.2f}')"
      ],
      "metadata": {
        "id": "xC7bBnyXGtmU"
      },
      "execution_count": null,
      "outputs": []
    },
    {
      "cell_type": "code",
      "source": [
        "linear.eval()\n",
        "with torch.no_grad():\n",
        "  correct = 0\n",
        "  total = 0\n",
        "  for i, (imgs, labels) in enumerate(test_loader):\n",
        "    imgs, labels = imgs.to(device), labels.to(device)\n",
        "    imgs = imgs.view(-1, 28 * 28)\n",
        "    outputs = linear(imgs)\n",
        "    _, argmax = torch.max(outputs, 1)\n",
        "    total += imgs.size(0)\n",
        "    correct += (labels == argmax).sum().item()\n",
        "\n",
        "  print('Test accuracy for {} images: {: .2f}%'.format(total, correct / total * 100))"
      ],
      "metadata": {
        "id": "C_KoxHznWDpc",
        "colab": {
          "base_uri": "https://localhost:8080/"
        },
        "outputId": "60b1c3a8-7518-4177-9555-9b39cdb463e6"
      },
      "execution_count": 16,
      "outputs": [
        {
          "output_type": "stream",
          "name": "stdout",
          "text": [
            "Test accuracy for 9984 images:  91.12%\n"
          ]
        }
      ]
    },
    {
      "cell_type": "code",
      "source": [
        "import matplotlib.pyplot as plt\n",
        "import random\n",
        "\n",
        "r = random.randint(0, len(mnist_test) - 1)\n",
        "X_single_data = mnist_test.test_data[r : r + 1].view(-1, 28 * 28).float().to(device)\n",
        "Y_single_data = mnist_test.test_labels[r: r + 1].to(device)\n",
        "\n",
        "print(\"Label: \", Y_single_data.item())\n",
        "single_prediction = linear(X_single_data)\n",
        "print(\"Prediction: \", torch.argmax(single_prediction, 1).item())\n",
        "\n",
        "plt.imshow(mnist_test.test_data[r:r+1].view(28,28), cmap=\"Greys\", interpolation=\"nearest\")\n",
        "plt.show()"
      ],
      "metadata": {
        "id": "lZfqaTXgtfOM",
        "colab": {
          "base_uri": "https://localhost:8080/",
          "height": 465
        },
        "outputId": "5fbf68a7-e376-465d-b50f-420bcd6e26c5"
      },
      "execution_count": 25,
      "outputs": [
        {
          "output_type": "stream",
          "name": "stdout",
          "text": [
            "Label:  1\n",
            "Prediction:  1\n"
          ]
        },
        {
          "output_type": "display_data",
          "data": {
            "text/plain": [
              "<Figure size 640x480 with 1 Axes>"
            ],
            "image/png": "[encoded data removed]"
          },
          "metadata": {}
        }
      ]
    },
    {
      "cell_type": "code",
      "source": [],
      "metadata": {
        "id": "2srBUGWlcmDZ"
      },
      "execution_count": null,
      "outputs": []
    }
  ]
}